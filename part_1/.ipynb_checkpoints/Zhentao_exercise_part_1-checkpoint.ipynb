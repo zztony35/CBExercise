{
 "cells": [
  {
   "cell_type": "code",
   "execution_count": 1,
   "metadata": {},
   "outputs": [],
   "source": [
    "import numpy as np\n",
    "import pandas as pd\n",
    "import matplotlib.pyplot as plt\n",
    "plt.style.use('ggplot')\n",
    "import ast"
   ]
  },
  {
   "cell_type": "code",
   "execution_count": 2,
   "metadata": {},
   "outputs": [],
   "source": [
    "%matplotlib inline"
   ]
  },
  {
   "cell_type": "markdown",
   "metadata": {},
   "source": [
    "### Import csv data file to pandas dataframe"
   ]
  },
  {
   "cell_type": "code",
   "execution_count": 3,
   "metadata": {},
   "outputs": [],
   "source": [
    "df = pd.read_csv('prompt_data.csv')"
   ]
  },
  {
   "cell_type": "code",
   "execution_count": 4,
   "metadata": {},
   "outputs": [],
   "source": [
    "# Inspect the structure of datafrmae\n",
    "# df.head()"
   ]
  },
  {
   "cell_type": "markdown",
   "metadata": {},
   "source": [
    "### Create three sub-groups for further analysis "
   ]
  },
  {
   "cell_type": "code",
   "execution_count": 5,
   "metadata": {},
   "outputs": [
    {
     "name": "stdout",
     "output_type": "stream",
     "text": [
      "The number of row in Origin Dataset: 5195\n",
      "The number of row in Approved_group: 2988\n",
      "The number of row in Declined_group: 2207\n",
      "The number of row in Booked_group: 354\n"
     ]
    }
   ],
   "source": [
    "# Create sub-data set: approved group, booked group and declined group\n",
    "apr_df = df.loc[df['status'] == 'APPROVED']\n",
    "bk_df = df.loc[df['booked'] == 1]\n",
    "dcl_df = df.loc[df['status'] == 'DECLINED']\n",
    "print(\"The number of row in Origin Dataset: {}\".format(df.shape[0]))\n",
    "print(\"The number of row in Approved_group: {}\".format(apr_df.shape[0]))\n",
    "print(\"The number of row in Declined_group: {}\".format(dcl_df.shape[0]))\n",
    "print(\"The number of row in Booked_group: {}\".format(bk_df.shape[0]))"
   ]
  },
  {
   "cell_type": "markdown",
   "metadata": {},
   "source": [
    "### Check: Booked group is a sub-group of Approved group"
   ]
  },
  {
   "cell_type": "code",
   "execution_count": 6,
   "metadata": {},
   "outputs": [
    {
     "data": {
      "text/plain": [
       "APPROVED    354\n",
       "Name: status, dtype: int64"
      ]
     },
     "execution_count": 6,
     "metadata": {},
     "output_type": "execute_result"
    }
   ],
   "source": [
    "bk_df['status'].value_counts()"
   ]
  },
  {
   "cell_type": "markdown",
   "metadata": {},
   "source": [
    "### Nested pie chart of three sub-groups"
   ]
  },
  {
   "cell_type": "code",
   "execution_count": 7,
   "metadata": {},
   "outputs": [
    {
     "data": {
      "text/plain": [
       "Text(0,1,'Nested Pie Chart of three sub-groups')"
      ]
     },
     "execution_count": 7,
     "metadata": {},
     "output_type": "execute_result"
    },
    {
     "data": {
      "image/png": "[encoded data removed]",
      "text/plain": [
       "<Figure size 432x432 with 1 Axes>"
      ]
     },
     "metadata": {},
     "output_type": "display_data"
    }
   ],
   "source": [
    "fig, ax = plt.subplots()\n",
    "fig.set_size_inches(6, 6)\n",
    "ax.axis('equal')\n",
    "width = 0.35\n",
    "\n",
    "cm = plt.get_cmap(\"tab20c\")\n",
    "cout = cm(np.arange(2)*4)\n",
    "pie, _ = ax.pie([apr_df.shape[0], dcl_df.shape[0]], radius=1, labels=['APPROVED', 'DECLINED'], colors=cout)\n",
    "plt.setp(pie, width=width, edgecolor='white')\n",
    "\n",
    "cin = cm(np.array([1,2,5]))\n",
    "labels = ['Booked', 'Not booked', 'Declined']\n",
    "pie2, _ = ax.pie([bk_df.shape[0], apr_df.shape[0]-bk_df.shape[0], dcl_df.shape[0]], \n",
    "                 radius=1-width, labels=labels, labeldistance=0.7, colors=cin)\n",
    "plt.setp(pie2, width=width, edgecolor='white')\n",
    "plt.title('Nested Pie Chart of three sub-groups', loc='left')"
   ]
  },
  {
   "cell_type": "markdown",
   "metadata": {},
   "source": [
    "# Section 1: Approved Group / Booked Group"
   ]
  },
  {
   "cell_type": "markdown",
   "metadata": {},
   "source": [
    "## Section 1-1 Approved Group"
   ]
  },
  {
   "cell_type": "markdown",
   "metadata": {},
   "source": [
    "### Looking at summary statistics that describe a variable's numeric values "
   ]
  },
  {
   "cell_type": "code",
   "execution_count": 8,
   "metadata": {},
   "outputs": [
    {
     "data": {
      "text/html": [
       "<div>\n",
       "<style scoped>\n",
       "    .dataframe tbody tr th:only-of-type {\n",
       "        vertical-align: middle;\n",
       "    }\n",
       "\n",
       "    .dataframe tbody tr th {\n",
       "        vertical-align: top;\n",
       "    }\n",
       "\n",
       "    .dataframe thead th {\n",
       "        text-align: right;\n",
       "    }\n",
       "</style>\n",
       "<table border=\"1\" class=\"dataframe\">\n",
       "  <thead>\n",
       "    <tr style=\"text-align: right;\">\n",
       "      <th></th>\n",
       "      <th>borrow_amount</th>\n",
       "      <th>bor_income</th>\n",
       "      <th>free_cash_flow</th>\n",
       "      <th>fico</th>\n",
       "      <th>coverage</th>\n",
       "      <th>leverage</th>\n",
       "      <th>age</th>\n",
       "      <th>booked</th>\n",
       "    </tr>\n",
       "  </thead>\n",
       "  <tbody>\n",
       "    <tr>\n",
       "      <th>count</th>\n",
       "      <td>2988.000000</td>\n",
       "      <td>2.988000e+03</td>\n",
       "      <td>2988.000000</td>\n",
       "      <td>2988.000000</td>\n",
       "      <td>2988.000000</td>\n",
       "      <td>2988.000000</td>\n",
       "      <td>2979.000000</td>\n",
       "      <td>2988.000000</td>\n",
       "    </tr>\n",
       "    <tr>\n",
       "      <th>mean</th>\n",
       "      <td>78330.243827</td>\n",
       "      <td>1.093390e+05</td>\n",
       "      <td>4328.021764</td>\n",
       "      <td>760.848095</td>\n",
       "      <td>2.956628</td>\n",
       "      <td>1.545007</td>\n",
       "      <td>33.153494</td>\n",
       "      <td>0.118474</td>\n",
       "    </tr>\n",
       "    <tr>\n",
       "      <th>std</th>\n",
       "      <td>77411.580015</td>\n",
       "      <td>9.063231e+04</td>\n",
       "      <td>4412.290844</td>\n",
       "      <td>44.866982</td>\n",
       "      <td>3.519519</td>\n",
       "      <td>1.059007</td>\n",
       "      <td>8.910262</td>\n",
       "      <td>0.323223</td>\n",
       "    </tr>\n",
       "    <tr>\n",
       "      <th>min</th>\n",
       "      <td>-9874.465172</td>\n",
       "      <td>1.536933e+04</td>\n",
       "      <td>630.817940</td>\n",
       "      <td>-4.124388</td>\n",
       "      <td>0.638931</td>\n",
       "      <td>-0.167503</td>\n",
       "      <td>19.929940</td>\n",
       "      <td>0.000000</td>\n",
       "    </tr>\n",
       "    <tr>\n",
       "      <th>25%</th>\n",
       "      <td>29245.143235</td>\n",
       "      <td>6.208721e+04</td>\n",
       "      <td>2336.588614</td>\n",
       "      <td>733.763214</td>\n",
       "      <td>1.977820</td>\n",
       "      <td>0.727566</td>\n",
       "      <td>27.419991</td>\n",
       "      <td>0.000000</td>\n",
       "    </tr>\n",
       "    <tr>\n",
       "      <th>50%</th>\n",
       "      <td>53161.001455</td>\n",
       "      <td>8.691908e+04</td>\n",
       "      <td>3316.182056</td>\n",
       "      <td>762.772443</td>\n",
       "      <td>2.581349</td>\n",
       "      <td>1.277850</td>\n",
       "      <td>30.778343</td>\n",
       "      <td>0.000000</td>\n",
       "    </tr>\n",
       "    <tr>\n",
       "      <th>75%</th>\n",
       "      <td>98640.505360</td>\n",
       "      <td>1.266152e+05</td>\n",
       "      <td>4998.785667</td>\n",
       "      <td>791.528401</td>\n",
       "      <td>3.338167</td>\n",
       "      <td>2.186386</td>\n",
       "      <td>35.600879</td>\n",
       "      <td>0.000000</td>\n",
       "    </tr>\n",
       "    <tr>\n",
       "      <th>max</th>\n",
       "      <td>581451.900100</td>\n",
       "      <td>2.925815e+06</td>\n",
       "      <td>168210.335000</td>\n",
       "      <td>853.908258</td>\n",
       "      <td>169.588239</td>\n",
       "      <td>7.154995</td>\n",
       "      <td>80.288298</td>\n",
       "      <td>1.000000</td>\n",
       "    </tr>\n",
       "  </tbody>\n",
       "</table>\n",
       "</div>"
      ],
      "text/plain": [
       "       borrow_amount    bor_income  free_cash_flow         fico     coverage  \\\n",
       "count    2988.000000  2.988000e+03     2988.000000  2988.000000  2988.000000   \n",
       "mean    78330.243827  1.093390e+05     4328.021764   760.848095     2.956628   \n",
       "std     77411.580015  9.063231e+04     4412.290844    44.866982     3.519519   \n",
       "min     -9874.465172  1.536933e+04      630.817940    -4.124388     0.638931   \n",
       "25%     29245.143235  6.208721e+04     2336.588614   733.763214     1.977820   \n",
       "50%     53161.001455  8.691908e+04     3316.182056   762.772443     2.581349   \n",
       "75%     98640.505360  1.266152e+05     4998.785667   791.528401     3.338167   \n",
       "max    581451.900100  2.925815e+06   168210.335000   853.908258   169.588239   \n",
       "\n",
       "          leverage          age       booked  \n",
       "count  2988.000000  2979.000000  2988.000000  \n",
       "mean      1.545007    33.153494     0.118474  \n",
       "std       1.059007     8.910262     0.323223  \n",
       "min      -0.167503    19.929940     0.000000  \n",
       "25%       0.727566    27.419991     0.000000  \n",
       "50%       1.277850    30.778343     0.000000  \n",
       "75%       2.186386    35.600879     0.000000  \n",
       "max       7.154995    80.288298     1.000000  "
      ]
     },
     "execution_count": 8,
     "metadata": {},
     "output_type": "execute_result"
    }
   ],
   "source": [
    "# Descriptive statistics of all numeric factors using Pandas Describe\n",
    "apr_df.describe()\n",
    "# Some negative numbers are strange here"
   ]
  },
  {
   "cell_type": "markdown",
   "metadata": {},
   "source": [
    "### Looking at summary statistics that describe categorical variables"
   ]
  },
  {
   "cell_type": "code",
   "execution_count": 9,
   "metadata": {},
   "outputs": [
    {
     "data": {
      "text/plain": [
       "False    1836\n",
       "True     1151\n",
       "Name: is_undergrad, dtype: int64"
      ]
     },
     "execution_count": 9,
     "metadata": {},
     "output_type": "execute_result"
    }
   ],
   "source": [
    "# There are four categorical/dummy variables in the data set: `is_undergrad`, `decline_reasons`, `status` and `booked`\n",
    "# `is_undergrad`:\n",
    "apr_undergrad_pct = apr_df['is_undergrad'].value_counts()\n",
    "apr_undergrad_pct"
   ]
  },
  {
   "cell_type": "markdown",
   "metadata": {},
   "source": [
    "### Visualization: Pie chart / \"is_undergrad\""
   ]
  },
  {
   "cell_type": "code",
   "execution_count": 10,
   "metadata": {},
   "outputs": [
    {
     "data": {
      "text/plain": [
       "Text(0,1,'is_undergrad in approved group ')"
      ]
     },
     "execution_count": 10,
     "metadata": {},
     "output_type": "execute_result"
    },
    {
     "data": {
      "image/png": "[encoded data removed]",
      "text/plain": [
       "<Figure size 432x432 with 1 Axes>"
      ]
     },
     "metadata": {},
     "output_type": "display_data"
    }
   ],
   "source": [
    "labels = ['is_undergrad', 'not_undergrad']\n",
    "explode = (0.1, 0)\n",
    "\n",
    "fig1, ax1 = plt.subplots()\n",
    "fig1.set_size_inches(6, 6)\n",
    "ax1.pie([apr_undergrad_pct[1], apr_undergrad_pct[0]], \n",
    "        explode=explode, labels=labels, autopct='%1.1f%%',\n",
    "        shadow=True, startangle=90)\n",
    "ax1.axis('equal')\n",
    "plt.title('is_undergrad in approved group ', loc='left')"
   ]
  },
  {
   "cell_type": "code",
   "execution_count": 11,
   "metadata": {},
   "outputs": [
    {
     "data": {
      "text/plain": [
       "['']    2988\n",
       "Name: decline_reasons, dtype: int64"
      ]
     },
     "execution_count": 11,
     "metadata": {},
     "output_type": "execute_result"
    }
   ],
   "source": [
    "# `decline_reasons`:\n",
    "apr_df['decline_reasons'].value_counts()"
   ]
  },
  {
   "cell_type": "code",
   "execution_count": 12,
   "metadata": {},
   "outputs": [
    {
     "data": {
      "text/plain": [
       "APPROVED    2988\n",
       "Name: status, dtype: int64"
      ]
     },
     "execution_count": 12,
     "metadata": {},
     "output_type": "execute_result"
    }
   ],
   "source": [
    "# `status`:\n",
    "apr_df['status'].value_counts()"
   ]
  },
  {
   "cell_type": "code",
   "execution_count": 13,
   "metadata": {},
   "outputs": [
    {
     "data": {
      "text/plain": [
       "0    2634\n",
       "1     354\n",
       "Name: booked, dtype: int64"
      ]
     },
     "execution_count": 13,
     "metadata": {},
     "output_type": "execute_result"
    }
   ],
   "source": [
    "# `booked`:\n",
    "apr_booked_pct = apr_df['booked'].value_counts()\n",
    "apr_booked_pct"
   ]
  },
  {
   "cell_type": "markdown",
   "metadata": {},
   "source": [
    "### Visualization: Pie chart / \"booked\""
   ]
  },
  {
   "cell_type": "code",
   "execution_count": 14,
   "metadata": {},
   "outputs": [
    {
     "data": {
      "text/plain": [
       "Text(0,1,'booked in approved group ')"
      ]
     },
     "execution_count": 14,
     "metadata": {},
     "output_type": "execute_result"
    },
    {
     "data": {
      "image/png": "[encoded data removed]",
      "text/plain": [
       "<Figure size 432x432 with 1 Axes>"
      ]
     },
     "metadata": {},
     "output_type": "display_data"
    }
   ],
   "source": [
    "labels = ['booked', 'not_booked']\n",
    "\n",
    "fig2, ax2 = plt.subplots()\n",
    "fig2.set_size_inches(6, 6)\n",
    "ax2.pie([apr_booked_pct[1], apr_booked_pct[0]], \n",
    "        explode=[0.2, 0], labels=labels, autopct='%1.1f%%',\n",
    "        shadow=True, startangle=90)\n",
    "ax2.axis('equal')\n",
    "plt.title('booked in approved group ', loc='left')"
   ]
  },
  {
   "cell_type": "markdown",
   "metadata": {},
   "source": [
    "### Looking at summary statistics under grouped dataset ('is_undergrad/booked')"
   ]
  },
  {
   "cell_type": "code",
   "execution_count": 15,
   "metadata": {},
   "outputs": [],
   "source": [
    "# Group \"Approved data\" by `is_undergrad` and `booked`\n",
    "grouped_apr_df = apr_df.groupby(['is_undergrad', 'booked'])"
   ]
  },
  {
   "cell_type": "markdown",
   "metadata": {},
   "source": [
    "### Example: Looking at summary statistics of \"fico\" under grouped dataset"
   ]
  },
  {
   "cell_type": "code",
   "execution_count": 16,
   "metadata": {},
   "outputs": [
    {
     "data": {
      "text/html": [
       "<div>\n",
       "<style scoped>\n",
       "    .dataframe tbody tr th:only-of-type {\n",
       "        vertical-align: middle;\n",
       "    }\n",
       "\n",
       "    .dataframe tbody tr th {\n",
       "        vertical-align: top;\n",
       "    }\n",
       "\n",
       "    .dataframe thead th {\n",
       "        text-align: right;\n",
       "    }\n",
       "</style>\n",
       "<table border=\"1\" class=\"dataframe\">\n",
       "  <thead>\n",
       "    <tr style=\"text-align: right;\">\n",
       "      <th></th>\n",
       "      <th></th>\n",
       "      <th>count</th>\n",
       "      <th>mean</th>\n",
       "      <th>std</th>\n",
       "      <th>min</th>\n",
       "      <th>25%</th>\n",
       "      <th>50%</th>\n",
       "      <th>75%</th>\n",
       "      <th>max</th>\n",
       "    </tr>\n",
       "    <tr>\n",
       "      <th>is_undergrad</th>\n",
       "      <th>booked</th>\n",
       "      <th></th>\n",
       "      <th></th>\n",
       "      <th></th>\n",
       "      <th></th>\n",
       "      <th></th>\n",
       "      <th></th>\n",
       "      <th></th>\n",
       "      <th></th>\n",
       "    </tr>\n",
       "  </thead>\n",
       "  <tbody>\n",
       "    <tr>\n",
       "      <th rowspan=\"2\" valign=\"top\">False</th>\n",
       "      <th>0</th>\n",
       "      <td>1639.0</td>\n",
       "      <td>764.201168</td>\n",
       "      <td>39.748301</td>\n",
       "      <td>656.970818</td>\n",
       "      <td>737.650602</td>\n",
       "      <td>764.802377</td>\n",
       "      <td>793.807123</td>\n",
       "      <td>852.959329</td>\n",
       "    </tr>\n",
       "    <tr>\n",
       "      <th>1</th>\n",
       "      <td>197.0</td>\n",
       "      <td>777.079947</td>\n",
       "      <td>36.005556</td>\n",
       "      <td>665.837673</td>\n",
       "      <td>754.556615</td>\n",
       "      <td>784.712592</td>\n",
       "      <td>801.613417</td>\n",
       "      <td>849.672810</td>\n",
       "    </tr>\n",
       "    <tr>\n",
       "      <th rowspan=\"2\" valign=\"top\">True</th>\n",
       "      <th>0</th>\n",
       "      <td>994.0</td>\n",
       "      <td>751.730432</td>\n",
       "      <td>52.207790</td>\n",
       "      <td>-4.124388</td>\n",
       "      <td>725.968749</td>\n",
       "      <td>754.623176</td>\n",
       "      <td>781.272866</td>\n",
       "      <td>846.206830</td>\n",
       "    </tr>\n",
       "    <tr>\n",
       "      <th>1</th>\n",
       "      <td>157.0</td>\n",
       "      <td>763.171649</td>\n",
       "      <td>44.616901</td>\n",
       "      <td>663.688452</td>\n",
       "      <td>730.162969</td>\n",
       "      <td>768.449460</td>\n",
       "      <td>799.403333</td>\n",
       "      <td>853.908258</td>\n",
       "    </tr>\n",
       "  </tbody>\n",
       "</table>\n",
       "</div>"
      ],
      "text/plain": [
       "                      count        mean        std         min         25%  \\\n",
       "is_undergrad booked                                                          \n",
       "False        0       1639.0  764.201168  39.748301  656.970818  737.650602   \n",
       "             1        197.0  777.079947  36.005556  665.837673  754.556615   \n",
       "True         0        994.0  751.730432  52.207790   -4.124388  725.968749   \n",
       "             1        157.0  763.171649  44.616901  663.688452  730.162969   \n",
       "\n",
       "                            50%         75%         max  \n",
       "is_undergrad booked                                      \n",
       "False        0       764.802377  793.807123  852.959329  \n",
       "             1       784.712592  801.613417  849.672810  \n",
       "True         0       754.623176  781.272866  846.206830  \n",
       "             1       768.449460  799.403333  853.908258  "
      ]
     },
     "execution_count": 16,
     "metadata": {},
     "output_type": "execute_result"
    }
   ],
   "source": [
    "# Descriptive statistics of one numeric factors in grouped dataset, use `fico` as an example here\n",
    "grouped_apr_df['fico'].describe()"
   ]
  },
  {
   "cell_type": "markdown",
   "metadata": {},
   "source": [
    "### Example: Extract central tendency  information of \"fico\" "
   ]
  },
  {
   "cell_type": "code",
   "execution_count": 17,
   "metadata": {},
   "outputs": [
    {
     "data": {
      "text/html": [
       "<div>\n",
       "<style scoped>\n",
       "    .dataframe tbody tr th:only-of-type {\n",
       "        vertical-align: middle;\n",
       "    }\n",
       "\n",
       "    .dataframe tbody tr th {\n",
       "        vertical-align: top;\n",
       "    }\n",
       "\n",
       "    .dataframe thead th {\n",
       "        text-align: right;\n",
       "    }\n",
       "</style>\n",
       "<table border=\"1\" class=\"dataframe\">\n",
       "  <thead>\n",
       "    <tr style=\"text-align: right;\">\n",
       "      <th></th>\n",
       "      <th>is_undergrad</th>\n",
       "      <th>booked</th>\n",
       "      <th>mean</th>\n",
       "      <th>median</th>\n",
       "      <th>std</th>\n",
       "    </tr>\n",
       "  </thead>\n",
       "  <tbody>\n",
       "    <tr>\n",
       "      <th>0</th>\n",
       "      <td>False</td>\n",
       "      <td>0</td>\n",
       "      <td>764.201168</td>\n",
       "      <td>764.802377</td>\n",
       "      <td>39.748301</td>\n",
       "    </tr>\n",
       "    <tr>\n",
       "      <th>1</th>\n",
       "      <td>False</td>\n",
       "      <td>1</td>\n",
       "      <td>777.079947</td>\n",
       "      <td>784.712592</td>\n",
       "      <td>36.005556</td>\n",
       "    </tr>\n",
       "    <tr>\n",
       "      <th>2</th>\n",
       "      <td>True</td>\n",
       "      <td>0</td>\n",
       "      <td>751.730432</td>\n",
       "      <td>754.623176</td>\n",
       "      <td>52.207790</td>\n",
       "    </tr>\n",
       "    <tr>\n",
       "      <th>3</th>\n",
       "      <td>True</td>\n",
       "      <td>1</td>\n",
       "      <td>763.171649</td>\n",
       "      <td>768.449460</td>\n",
       "      <td>44.616901</td>\n",
       "    </tr>\n",
       "  </tbody>\n",
       "</table>\n",
       "</div>"
      ],
      "text/plain": [
       "   is_undergrad  booked        mean      median        std\n",
       "0         False       0  764.201168  764.802377  39.748301\n",
       "1         False       1  777.079947  784.712592  36.005556\n",
       "2          True       0  751.730432  754.623176  52.207790\n",
       "3          True       1  763.171649  768.449460  44.616901"
      ]
     },
     "execution_count": 17,
     "metadata": {},
     "output_type": "execute_result"
    }
   ],
   "source": [
    "# Extract \"Central\" information from descriptive statistics\n",
    "grouped_apr_df['fico'].aggregate([np.mean, np.median, np.std]).reset_index()"
   ]
  },
  {
   "cell_type": "markdown",
   "metadata": {},
   "source": [
    "### Visualization: Bar chart / central tendency "
   ]
  },
  {
   "cell_type": "code",
   "execution_count": 18,
   "metadata": {},
   "outputs": [
    {
     "data": {
      "text/plain": [
       "<matplotlib.axes._subplots.AxesSubplot at 0x1be15d04eb8>"
      ]
     },
     "execution_count": 18,
     "metadata": {},
     "output_type": "execute_result"
    },
    {
     "data": {
      "image/png": "[encoded data removed]",
      "text/plain": [
       "<Figure size 432x432 with 1 Axes>"
      ]
     },
     "metadata": {},
     "output_type": "display_data"
    }
   ],
   "source": [
    "grouped_apr_df['fico'].aggregate([np.mean, np.median]).transpose().plot(kind='bar', figsize=(6,6),\n",
    "                                                                       ylim=(700, 800), legend=True, \n",
    "                                                                       title=\"FICO central tendency comparison in approved group\")"
   ]
  },
  {
   "cell_type": "markdown",
   "metadata": {},
   "source": [
    "### Example: Extract variability information of \"fico\" "
   ]
  },
  {
   "cell_type": "code",
   "execution_count": 19,
   "metadata": {},
   "outputs": [
    {
     "data": {
      "text/html": [
       "<div>\n",
       "<style scoped>\n",
       "    .dataframe tbody tr th:only-of-type {\n",
       "        vertical-align: middle;\n",
       "    }\n",
       "\n",
       "    .dataframe tbody tr th {\n",
       "        vertical-align: top;\n",
       "    }\n",
       "\n",
       "    .dataframe thead th {\n",
       "        text-align: right;\n",
       "    }\n",
       "</style>\n",
       "<table border=\"1\" class=\"dataframe\">\n",
       "  <thead>\n",
       "    <tr style=\"text-align: right;\">\n",
       "      <th></th>\n",
       "      <th>is_undergrad</th>\n",
       "      <th>booked</th>\n",
       "      <th>std</th>\n",
       "      <th>var</th>\n",
       "    </tr>\n",
       "  </thead>\n",
       "  <tbody>\n",
       "    <tr>\n",
       "      <th>0</th>\n",
       "      <td>False</td>\n",
       "      <td>0</td>\n",
       "      <td>39.748301</td>\n",
       "      <td>1579.927423</td>\n",
       "    </tr>\n",
       "    <tr>\n",
       "      <th>1</th>\n",
       "      <td>False</td>\n",
       "      <td>1</td>\n",
       "      <td>36.005556</td>\n",
       "      <td>1296.400049</td>\n",
       "    </tr>\n",
       "    <tr>\n",
       "      <th>2</th>\n",
       "      <td>True</td>\n",
       "      <td>0</td>\n",
       "      <td>52.207790</td>\n",
       "      <td>2725.653363</td>\n",
       "    </tr>\n",
       "    <tr>\n",
       "      <th>3</th>\n",
       "      <td>True</td>\n",
       "      <td>1</td>\n",
       "      <td>44.616901</td>\n",
       "      <td>1990.667815</td>\n",
       "    </tr>\n",
       "  </tbody>\n",
       "</table>\n",
       "</div>"
      ],
      "text/plain": [
       "   is_undergrad  booked        std          var\n",
       "0         False       0  39.748301  1579.927423\n",
       "1         False       1  36.005556  1296.400049\n",
       "2          True       0  52.207790  2725.653363\n",
       "3          True       1  44.616901  1990.667815"
      ]
     },
     "execution_count": 19,
     "metadata": {},
     "output_type": "execute_result"
    }
   ],
   "source": [
    "# Measures of variability\n",
    "grouped_apr_df['fico'].aggregate([np.std, np.var]).reset_index()"
   ]
  },
  {
   "cell_type": "code",
   "execution_count": 20,
   "metadata": {},
   "outputs": [
    {
     "data": {
      "text/plain": [
       "<matplotlib.axes._subplots.AxesSubplot at 0x1be15d9c2b0>"
      ]
     },
     "execution_count": 20,
     "metadata": {},
     "output_type": "execute_result"
    },
    {
     "data": {
      "image/png": "[encoded data removed]",
      "text/plain": [
       "<Figure size 432x432 with 1 Axes>"
      ]
     },
     "metadata": {},
     "output_type": "display_data"
    }
   ],
   "source": [
    "# Bar chart of std in approved group\n",
    "grouped_apr_df['fico'].aggregate([np.std]).transpose().plot(kind='bar', figsize=(6,6),\n",
    "                                                                       ylim=(0, 60), legend=True, \n",
    "                                                                       title=\"FICO variability comparison in approved group\")"
   ]
  },
  {
   "cell_type": "markdown",
   "metadata": {},
   "source": [
    "### Correlation analysis of numerical variables"
   ]
  },
  {
   "cell_type": "code",
   "execution_count": 21,
   "metadata": {},
   "outputs": [
    {
     "data": {
      "text/html": [
       "<div>\n",
       "<style scoped>\n",
       "    .dataframe tbody tr th:only-of-type {\n",
       "        vertical-align: middle;\n",
       "    }\n",
       "\n",
       "    .dataframe tbody tr th {\n",
       "        vertical-align: top;\n",
       "    }\n",
       "\n",
       "    .dataframe thead th {\n",
       "        text-align: right;\n",
       "    }\n",
       "</style>\n",
       "<table border=\"1\" class=\"dataframe\">\n",
       "  <thead>\n",
       "    <tr style=\"text-align: right;\">\n",
       "      <th></th>\n",
       "      <th>borrow_amount</th>\n",
       "      <th>bor_income</th>\n",
       "      <th>free_cash_flow</th>\n",
       "      <th>fico</th>\n",
       "      <th>coverage</th>\n",
       "      <th>leverage</th>\n",
       "      <th>age</th>\n",
       "    </tr>\n",
       "  </thead>\n",
       "  <tbody>\n",
       "    <tr>\n",
       "      <th>borrow_amount</th>\n",
       "      <td>1.000000</td>\n",
       "      <td>0.461740</td>\n",
       "      <td>0.301900</td>\n",
       "      <td>0.013756</td>\n",
       "      <td>-0.062550</td>\n",
       "      <td>0.154970</td>\n",
       "      <td>-0.010128</td>\n",
       "    </tr>\n",
       "    <tr>\n",
       "      <th>bor_income</th>\n",
       "      <td>0.461740</td>\n",
       "      <td>1.000000</td>\n",
       "      <td>0.944679</td>\n",
       "      <td>0.091307</td>\n",
       "      <td>0.589604</td>\n",
       "      <td>-0.019413</td>\n",
       "      <td>0.178761</td>\n",
       "    </tr>\n",
       "    <tr>\n",
       "      <th>free_cash_flow</th>\n",
       "      <td>0.301900</td>\n",
       "      <td>0.944679</td>\n",
       "      <td>1.000000</td>\n",
       "      <td>0.089935</td>\n",
       "      <td>0.743844</td>\n",
       "      <td>-0.131534</td>\n",
       "      <td>0.131500</td>\n",
       "    </tr>\n",
       "    <tr>\n",
       "      <th>fico</th>\n",
       "      <td>0.013756</td>\n",
       "      <td>0.091307</td>\n",
       "      <td>0.089935</td>\n",
       "      <td>1.000000</td>\n",
       "      <td>0.027135</td>\n",
       "      <td>0.025729</td>\n",
       "      <td>0.114303</td>\n",
       "    </tr>\n",
       "    <tr>\n",
       "      <th>coverage</th>\n",
       "      <td>-0.062550</td>\n",
       "      <td>0.589604</td>\n",
       "      <td>0.743844</td>\n",
       "      <td>0.027135</td>\n",
       "      <td>1.000000</td>\n",
       "      <td>-0.196995</td>\n",
       "      <td>0.023269</td>\n",
       "    </tr>\n",
       "    <tr>\n",
       "      <th>leverage</th>\n",
       "      <td>0.154970</td>\n",
       "      <td>-0.019413</td>\n",
       "      <td>-0.131534</td>\n",
       "      <td>0.025729</td>\n",
       "      <td>-0.196995</td>\n",
       "      <td>1.000000</td>\n",
       "      <td>0.231916</td>\n",
       "    </tr>\n",
       "    <tr>\n",
       "      <th>age</th>\n",
       "      <td>-0.010128</td>\n",
       "      <td>0.178761</td>\n",
       "      <td>0.131500</td>\n",
       "      <td>0.114303</td>\n",
       "      <td>0.023269</td>\n",
       "      <td>0.231916</td>\n",
       "      <td>1.000000</td>\n",
       "    </tr>\n",
       "  </tbody>\n",
       "</table>\n",
       "</div>"
      ],
      "text/plain": [
       "                borrow_amount  bor_income  free_cash_flow      fico  coverage  \\\n",
       "borrow_amount        1.000000    0.461740        0.301900  0.013756 -0.062550   \n",
       "bor_income           0.461740    1.000000        0.944679  0.091307  0.589604   \n",
       "free_cash_flow       0.301900    0.944679        1.000000  0.089935  0.743844   \n",
       "fico                 0.013756    0.091307        0.089935  1.000000  0.027135   \n",
       "coverage            -0.062550    0.589604        0.743844  0.027135  1.000000   \n",
       "leverage             0.154970   -0.019413       -0.131534  0.025729 -0.196995   \n",
       "age                 -0.010128    0.178761        0.131500  0.114303  0.023269   \n",
       "\n",
       "                leverage       age  \n",
       "borrow_amount   0.154970 -0.010128  \n",
       "bor_income     -0.019413  0.178761  \n",
       "free_cash_flow -0.131534  0.131500  \n",
       "fico            0.025729  0.114303  \n",
       "coverage       -0.196995  0.023269  \n",
       "leverage        1.000000  0.231916  \n",
       "age             0.231916  1.000000  "
      ]
     },
     "execution_count": 21,
     "metadata": {},
     "output_type": "execute_result"
    }
   ],
   "source": [
    "apr_df.iloc[:,:7].corr(method='pearson')"
   ]
  },
  {
   "cell_type": "markdown",
   "metadata": {},
   "source": [
    "## Section 1-2 Booked Group"
   ]
  },
  {
   "cell_type": "markdown",
   "metadata": {},
   "source": [
    "### Looking at summary statistics that describe a variable's numeric values"
   ]
  },
  {
   "cell_type": "code",
   "execution_count": 22,
   "metadata": {},
   "outputs": [
    {
     "data": {
      "text/html": [
       "<div>\n",
       "<style scoped>\n",
       "    .dataframe tbody tr th:only-of-type {\n",
       "        vertical-align: middle;\n",
       "    }\n",
       "\n",
       "    .dataframe tbody tr th {\n",
       "        vertical-align: top;\n",
       "    }\n",
       "\n",
       "    .dataframe thead th {\n",
       "        text-align: right;\n",
       "    }\n",
       "</style>\n",
       "<table border=\"1\" class=\"dataframe\">\n",
       "  <thead>\n",
       "    <tr style=\"text-align: right;\">\n",
       "      <th></th>\n",
       "      <th>borrow_amount</th>\n",
       "      <th>bor_income</th>\n",
       "      <th>free_cash_flow</th>\n",
       "      <th>fico</th>\n",
       "      <th>coverage</th>\n",
       "      <th>leverage</th>\n",
       "      <th>age</th>\n",
       "      <th>booked</th>\n",
       "    </tr>\n",
       "  </thead>\n",
       "  <tbody>\n",
       "    <tr>\n",
       "      <th>count</th>\n",
       "      <td>354.000000</td>\n",
       "      <td>354.000000</td>\n",
       "      <td>354.000000</td>\n",
       "      <td>354.000000</td>\n",
       "      <td>354.000000</td>\n",
       "      <td>354.000000</td>\n",
       "      <td>354.000000</td>\n",
       "      <td>354.0</td>\n",
       "    </tr>\n",
       "    <tr>\n",
       "      <th>mean</th>\n",
       "      <td>91908.809084</td>\n",
       "      <td>140637.299196</td>\n",
       "      <td>5726.935155</td>\n",
       "      <td>770.911577</td>\n",
       "      <td>3.316668</td>\n",
       "      <td>1.554197</td>\n",
       "      <td>34.042294</td>\n",
       "      <td>1.0</td>\n",
       "    </tr>\n",
       "    <tr>\n",
       "      <th>std</th>\n",
       "      <td>93445.412294</td>\n",
       "      <td>92386.134164</td>\n",
       "      <td>4054.208728</td>\n",
       "      <td>40.588431</td>\n",
       "      <td>1.960230</td>\n",
       "      <td>1.058141</td>\n",
       "      <td>8.693636</td>\n",
       "      <td>0.0</td>\n",
       "    </tr>\n",
       "    <tr>\n",
       "      <th>min</th>\n",
       "      <td>-628.637582</td>\n",
       "      <td>25661.287310</td>\n",
       "      <td>754.383331</td>\n",
       "      <td>663.688452</td>\n",
       "      <td>0.680282</td>\n",
       "      <td>0.022878</td>\n",
       "      <td>21.935558</td>\n",
       "      <td>1.0</td>\n",
       "    </tr>\n",
       "    <tr>\n",
       "      <th>25%</th>\n",
       "      <td>30307.929472</td>\n",
       "      <td>77813.778200</td>\n",
       "      <td>3191.267226</td>\n",
       "      <td>746.498568</td>\n",
       "      <td>2.211935</td>\n",
       "      <td>0.766722</td>\n",
       "      <td>28.511677</td>\n",
       "      <td>1.0</td>\n",
       "    </tr>\n",
       "    <tr>\n",
       "      <th>50%</th>\n",
       "      <td>56608.428235</td>\n",
       "      <td>113829.749500</td>\n",
       "      <td>4680.279951</td>\n",
       "      <td>779.049995</td>\n",
       "      <td>2.858966</td>\n",
       "      <td>1.325794</td>\n",
       "      <td>31.720421</td>\n",
       "      <td>1.0</td>\n",
       "    </tr>\n",
       "    <tr>\n",
       "      <th>75%</th>\n",
       "      <td>116392.676800</td>\n",
       "      <td>160686.812125</td>\n",
       "      <td>6698.770503</td>\n",
       "      <td>801.562560</td>\n",
       "      <td>3.781702</td>\n",
       "      <td>2.111561</td>\n",
       "      <td>36.054320</td>\n",
       "      <td>1.0</td>\n",
       "    </tr>\n",
       "    <tr>\n",
       "      <th>max</th>\n",
       "      <td>581451.900100</td>\n",
       "      <td>602648.536600</td>\n",
       "      <td>30069.982770</td>\n",
       "      <td>853.908258</td>\n",
       "      <td>19.534616</td>\n",
       "      <td>4.547947</td>\n",
       "      <td>65.207247</td>\n",
       "      <td>1.0</td>\n",
       "    </tr>\n",
       "  </tbody>\n",
       "</table>\n",
       "</div>"
      ],
      "text/plain": [
       "       borrow_amount     bor_income  free_cash_flow        fico    coverage  \\\n",
       "count     354.000000     354.000000      354.000000  354.000000  354.000000   \n",
       "mean    91908.809084  140637.299196     5726.935155  770.911577    3.316668   \n",
       "std     93445.412294   92386.134164     4054.208728   40.588431    1.960230   \n",
       "min      -628.637582   25661.287310      754.383331  663.688452    0.680282   \n",
       "25%     30307.929472   77813.778200     3191.267226  746.498568    2.211935   \n",
       "50%     56608.428235  113829.749500     4680.279951  779.049995    2.858966   \n",
       "75%    116392.676800  160686.812125     6698.770503  801.562560    3.781702   \n",
       "max    581451.900100  602648.536600    30069.982770  853.908258   19.534616   \n",
       "\n",
       "         leverage         age  booked  \n",
       "count  354.000000  354.000000   354.0  \n",
       "mean     1.554197   34.042294     1.0  \n",
       "std      1.058141    8.693636     0.0  \n",
       "min      0.022878   21.935558     1.0  \n",
       "25%      0.766722   28.511677     1.0  \n",
       "50%      1.325794   31.720421     1.0  \n",
       "75%      2.111561   36.054320     1.0  \n",
       "max      4.547947   65.207247     1.0  "
      ]
     },
     "execution_count": 22,
     "metadata": {},
     "output_type": "execute_result"
    }
   ],
   "source": [
    "# Summary statistics of all numeric variables in booked Group\n",
    "bk_df.describe()"
   ]
  },
  {
   "cell_type": "markdown",
   "metadata": {},
   "source": [
    "### Looking at summary statistics that describe categorical variables"
   ]
  },
  {
   "cell_type": "code",
   "execution_count": 23,
   "metadata": {},
   "outputs": [
    {
     "data": {
      "text/plain": [
       "False    1836\n",
       "True     1151\n",
       "Name: is_undergrad, dtype: int64"
      ]
     },
     "execution_count": 23,
     "metadata": {},
     "output_type": "execute_result"
    }
   ],
   "source": [
    "# `is_undergrad`:\n",
    "bk_undergrad_pct = apr_df['is_undergrad'].value_counts()\n",
    "bk_undergrad_pct"
   ]
  },
  {
   "cell_type": "code",
   "execution_count": 24,
   "metadata": {},
   "outputs": [
    {
     "data": {
      "text/plain": [
       "Text(0,1,'is_undergrad in booked group ')"
      ]
     },
     "execution_count": 24,
     "metadata": {},
     "output_type": "execute_result"
    },
    {
     "data": {
      "image/png": "[encoded data removed]",
      "text/plain": [
       "<Figure size 432x432 with 1 Axes>"
      ]
     },
     "metadata": {},
     "output_type": "display_data"
    }
   ],
   "source": [
    "# Pir chart \"is_undergrad\" in booked group\n",
    "labels = ['is_undergrad', 'not_undergrad']\n",
    "explode = (0.1, 0)\n",
    "\n",
    "fig3, ax3 = plt.subplots()\n",
    "fig3.set_size_inches(6, 6)\n",
    "ax3.pie([bk_undergrad_pct[1], bk_undergrad_pct[0]], \n",
    "        explode=explode, labels=labels, autopct='%1.1f%%',\n",
    "        shadow=True, startangle=90)\n",
    "ax3.axis('equal')\n",
    "plt.title('is_undergrad in booked group ', loc='left')"
   ]
  },
  {
   "cell_type": "code",
   "execution_count": 25,
   "metadata": {},
   "outputs": [],
   "source": [
    "# Since I have examined that booked group is a part of approved group, \n",
    "# the counts of `decline_reasons`, `status` and `booked` are unnecessary here"
   ]
  },
  {
   "cell_type": "markdown",
   "metadata": {},
   "source": [
    "### Looking at summary statistics under grouped dataset ('is_undergrad')"
   ]
  },
  {
   "cell_type": "code",
   "execution_count": 26,
   "metadata": {},
   "outputs": [],
   "source": [
    "grouped_bk_df = bk_df.groupby(['is_undergrad'])"
   ]
  },
  {
   "cell_type": "code",
   "execution_count": 27,
   "metadata": {},
   "outputs": [
    {
     "data": {
      "text/html": [
       "<div>\n",
       "<style scoped>\n",
       "    .dataframe tbody tr th:only-of-type {\n",
       "        vertical-align: middle;\n",
       "    }\n",
       "\n",
       "    .dataframe tbody tr th {\n",
       "        vertical-align: top;\n",
       "    }\n",
       "\n",
       "    .dataframe thead th {\n",
       "        text-align: right;\n",
       "    }\n",
       "</style>\n",
       "<table border=\"1\" class=\"dataframe\">\n",
       "  <thead>\n",
       "    <tr style=\"text-align: right;\">\n",
       "      <th></th>\n",
       "      <th>count</th>\n",
       "      <th>mean</th>\n",
       "      <th>std</th>\n",
       "      <th>min</th>\n",
       "      <th>25%</th>\n",
       "      <th>50%</th>\n",
       "      <th>75%</th>\n",
       "      <th>max</th>\n",
       "    </tr>\n",
       "    <tr>\n",
       "      <th>is_undergrad</th>\n",
       "      <th></th>\n",
       "      <th></th>\n",
       "      <th></th>\n",
       "      <th></th>\n",
       "      <th></th>\n",
       "      <th></th>\n",
       "      <th></th>\n",
       "      <th></th>\n",
       "    </tr>\n",
       "  </thead>\n",
       "  <tbody>\n",
       "    <tr>\n",
       "      <th>False</th>\n",
       "      <td>197.0</td>\n",
       "      <td>6725.919785</td>\n",
       "      <td>4546.275905</td>\n",
       "      <td>754.383331</td>\n",
       "      <td>3842.470096</td>\n",
       "      <td>5220.244495</td>\n",
       "      <td>8477.532377</td>\n",
       "      <td>30069.98277</td>\n",
       "    </tr>\n",
       "    <tr>\n",
       "      <th>True</th>\n",
       "      <td>157.0</td>\n",
       "      <td>4473.432146</td>\n",
       "      <td>2895.379655</td>\n",
       "      <td>912.408170</td>\n",
       "      <td>2809.906290</td>\n",
       "      <td>3766.429476</td>\n",
       "      <td>5096.333798</td>\n",
       "      <td>24236.87873</td>\n",
       "    </tr>\n",
       "  </tbody>\n",
       "</table>\n",
       "</div>"
      ],
      "text/plain": [
       "              count         mean          std         min          25%  \\\n",
       "is_undergrad                                                             \n",
       "False         197.0  6725.919785  4546.275905  754.383331  3842.470096   \n",
       "True          157.0  4473.432146  2895.379655  912.408170  2809.906290   \n",
       "\n",
       "                      50%          75%          max  \n",
       "is_undergrad                                         \n",
       "False         5220.244495  8477.532377  30069.98277  \n",
       "True          3766.429476  5096.333798  24236.87873  "
      ]
     },
     "execution_count": 27,
     "metadata": {},
     "output_type": "execute_result"
    }
   ],
   "source": [
    "# Descriptive statistics of one numeric factors in grouped dataset, use `free_cash_flow` as an example here\n",
    "grouped_bk_df['free_cash_flow'].describe()"
   ]
  },
  {
   "cell_type": "code",
   "execution_count": 28,
   "metadata": {},
   "outputs": [
    {
     "data": {
      "text/html": [
       "<div>\n",
       "<style scoped>\n",
       "    .dataframe tbody tr th:only-of-type {\n",
       "        vertical-align: middle;\n",
       "    }\n",
       "\n",
       "    .dataframe tbody tr th {\n",
       "        vertical-align: top;\n",
       "    }\n",
       "\n",
       "    .dataframe thead th {\n",
       "        text-align: right;\n",
       "    }\n",
       "</style>\n",
       "<table border=\"1\" class=\"dataframe\">\n",
       "  <thead>\n",
       "    <tr style=\"text-align: right;\">\n",
       "      <th></th>\n",
       "      <th>is_undergrad</th>\n",
       "      <th>mean</th>\n",
       "      <th>median</th>\n",
       "      <th>std</th>\n",
       "    </tr>\n",
       "  </thead>\n",
       "  <tbody>\n",
       "    <tr>\n",
       "      <th>0</th>\n",
       "      <td>False</td>\n",
       "      <td>6725.919785</td>\n",
       "      <td>5220.244495</td>\n",
       "      <td>4546.275905</td>\n",
       "    </tr>\n",
       "    <tr>\n",
       "      <th>1</th>\n",
       "      <td>True</td>\n",
       "      <td>4473.432146</td>\n",
       "      <td>3766.429476</td>\n",
       "      <td>2895.379655</td>\n",
       "    </tr>\n",
       "  </tbody>\n",
       "</table>\n",
       "</div>"
      ],
      "text/plain": [
       "   is_undergrad         mean       median          std\n",
       "0         False  6725.919785  5220.244495  4546.275905\n",
       "1          True  4473.432146  3766.429476  2895.379655"
      ]
     },
     "execution_count": 28,
     "metadata": {},
     "output_type": "execute_result"
    }
   ],
   "source": [
    "# Extract \"Central\" information from descriptive statistics\n",
    "grouped_bk_df['free_cash_flow'].aggregate([np.mean, np.median, np.std]).reset_index()"
   ]
  },
  {
   "cell_type": "code",
   "execution_count": 29,
   "metadata": {},
   "outputs": [
    {
     "data": {
      "text/plain": [
       "<matplotlib.axes._subplots.AxesSubplot at 0x1be15e54438>"
      ]
     },
     "execution_count": 29,
     "metadata": {},
     "output_type": "execute_result"
    },
    {
     "data": {
      "image/png": "[encoded data removed]",
      "text/plain": [
       "<Figure size 432x432 with 1 Axes>"
      ]
     },
     "metadata": {},
     "output_type": "display_data"
    }
   ],
   "source": [
    "# Bar chart central in booked group\n",
    "grouped_bk_df['free_cash_flow'].aggregate([np.mean, np.median]).transpose().plot(kind='bar', figsize=(6,6),\n",
    "                                                                       ylim=(0, 8000), legend=True, \n",
    "                                                                       title=\"free_cash_flow central tendency comparison in booked group\")"
   ]
  },
  {
   "cell_type": "code",
   "execution_count": 30,
   "metadata": {},
   "outputs": [
    {
     "data": {
      "text/html": [
       "<div>\n",
       "<style scoped>\n",
       "    .dataframe tbody tr th:only-of-type {\n",
       "        vertical-align: middle;\n",
       "    }\n",
       "\n",
       "    .dataframe tbody tr th {\n",
       "        vertical-align: top;\n",
       "    }\n",
       "\n",
       "    .dataframe thead th {\n",
       "        text-align: right;\n",
       "    }\n",
       "</style>\n",
       "<table border=\"1\" class=\"dataframe\">\n",
       "  <thead>\n",
       "    <tr style=\"text-align: right;\">\n",
       "      <th></th>\n",
       "      <th>is_undergrad</th>\n",
       "      <th>std</th>\n",
       "      <th>var</th>\n",
       "    </tr>\n",
       "  </thead>\n",
       "  <tbody>\n",
       "    <tr>\n",
       "      <th>0</th>\n",
       "      <td>False</td>\n",
       "      <td>4546.275905</td>\n",
       "      <td>2.066862e+07</td>\n",
       "    </tr>\n",
       "    <tr>\n",
       "      <th>1</th>\n",
       "      <td>True</td>\n",
       "      <td>2895.379655</td>\n",
       "      <td>8.383223e+06</td>\n",
       "    </tr>\n",
       "  </tbody>\n",
       "</table>\n",
       "</div>"
      ],
      "text/plain": [
       "   is_undergrad          std           var\n",
       "0         False  4546.275905  2.066862e+07\n",
       "1          True  2895.379655  8.383223e+06"
      ]
     },
     "execution_count": 30,
     "metadata": {},
     "output_type": "execute_result"
    }
   ],
   "source": [
    "# Measures of variability\n",
    "grouped_bk_df['free_cash_flow'].aggregate([np.std, np.var]).reset_index()"
   ]
  },
  {
   "cell_type": "code",
   "execution_count": 31,
   "metadata": {},
   "outputs": [
    {
     "data": {
      "text/plain": [
       "<matplotlib.axes._subplots.AxesSubplot at 0x1be16e6b860>"
      ]
     },
     "execution_count": 31,
     "metadata": {},
     "output_type": "execute_result"
    },
    {
     "data": {
      "image/png": "[encoded data removed]",
      "text/plain": [
       "<Figure size 432x432 with 1 Axes>"
      ]
     },
     "metadata": {},
     "output_type": "display_data"
    }
   ],
   "source": [
    "# Bar chart variability in booked group\n",
    "grouped_bk_df['free_cash_flow'].aggregate([np.std]).transpose().plot(kind='bar', figsize=(6,6), legend=True, \n",
    "                                                                       title=\"free_cash_flow variability comparison in booked group\")"
   ]
  },
  {
   "cell_type": "code",
   "execution_count": 32,
   "metadata": {},
   "outputs": [
    {
     "data": {
      "text/html": [
       "<div>\n",
       "<style scoped>\n",
       "    .dataframe tbody tr th:only-of-type {\n",
       "        vertical-align: middle;\n",
       "    }\n",
       "\n",
       "    .dataframe tbody tr th {\n",
       "        vertical-align: top;\n",
       "    }\n",
       "\n",
       "    .dataframe thead th {\n",
       "        text-align: right;\n",
       "    }\n",
       "</style>\n",
       "<table border=\"1\" class=\"dataframe\">\n",
       "  <thead>\n",
       "    <tr style=\"text-align: right;\">\n",
       "      <th></th>\n",
       "      <th>borrow_amount</th>\n",
       "      <th>bor_income</th>\n",
       "      <th>free_cash_flow</th>\n",
       "      <th>fico</th>\n",
       "      <th>coverage</th>\n",
       "      <th>leverage</th>\n",
       "      <th>age</th>\n",
       "    </tr>\n",
       "  </thead>\n",
       "  <tbody>\n",
       "    <tr>\n",
       "      <th>borrow_amount</th>\n",
       "      <td>1.000000</td>\n",
       "      <td>0.576550</td>\n",
       "      <td>0.423847</td>\n",
       "      <td>-0.025826</td>\n",
       "      <td>-0.140671</td>\n",
       "      <td>0.079725</td>\n",
       "      <td>-0.064678</td>\n",
       "    </tr>\n",
       "    <tr>\n",
       "      <th>bor_income</th>\n",
       "      <td>0.576550</td>\n",
       "      <td>1.000000</td>\n",
       "      <td>0.933490</td>\n",
       "      <td>0.109337</td>\n",
       "      <td>0.103709</td>\n",
       "      <td>-0.055476</td>\n",
       "      <td>0.147452</td>\n",
       "    </tr>\n",
       "    <tr>\n",
       "      <th>free_cash_flow</th>\n",
       "      <td>0.423847</td>\n",
       "      <td>0.933490</td>\n",
       "      <td>1.000000</td>\n",
       "      <td>0.133539</td>\n",
       "      <td>0.292361</td>\n",
       "      <td>-0.183955</td>\n",
       "      <td>0.132783</td>\n",
       "    </tr>\n",
       "    <tr>\n",
       "      <th>fico</th>\n",
       "      <td>-0.025826</td>\n",
       "      <td>0.109337</td>\n",
       "      <td>0.133539</td>\n",
       "      <td>1.000000</td>\n",
       "      <td>0.041085</td>\n",
       "      <td>0.060434</td>\n",
       "      <td>0.144726</td>\n",
       "    </tr>\n",
       "    <tr>\n",
       "      <th>coverage</th>\n",
       "      <td>-0.140671</td>\n",
       "      <td>0.103709</td>\n",
       "      <td>0.292361</td>\n",
       "      <td>0.041085</td>\n",
       "      <td>1.000000</td>\n",
       "      <td>-0.406620</td>\n",
       "      <td>-0.017098</td>\n",
       "    </tr>\n",
       "    <tr>\n",
       "      <th>leverage</th>\n",
       "      <td>0.079725</td>\n",
       "      <td>-0.055476</td>\n",
       "      <td>-0.183955</td>\n",
       "      <td>0.060434</td>\n",
       "      <td>-0.406620</td>\n",
       "      <td>1.000000</td>\n",
       "      <td>0.203074</td>\n",
       "    </tr>\n",
       "    <tr>\n",
       "      <th>age</th>\n",
       "      <td>-0.064678</td>\n",
       "      <td>0.147452</td>\n",
       "      <td>0.132783</td>\n",
       "      <td>0.144726</td>\n",
       "      <td>-0.017098</td>\n",
       "      <td>0.203074</td>\n",
       "      <td>1.000000</td>\n",
       "    </tr>\n",
       "  </tbody>\n",
       "</table>\n",
       "</div>"
      ],
      "text/plain": [
       "                borrow_amount  bor_income  free_cash_flow      fico  coverage  \\\n",
       "borrow_amount        1.000000    0.576550        0.423847 -0.025826 -0.140671   \n",
       "bor_income           0.576550    1.000000        0.933490  0.109337  0.103709   \n",
       "free_cash_flow       0.423847    0.933490        1.000000  0.133539  0.292361   \n",
       "fico                -0.025826    0.109337        0.133539  1.000000  0.041085   \n",
       "coverage            -0.140671    0.103709        0.292361  0.041085  1.000000   \n",
       "leverage             0.079725   -0.055476       -0.183955  0.060434 -0.406620   \n",
       "age                 -0.064678    0.147452        0.132783  0.144726 -0.017098   \n",
       "\n",
       "                leverage       age  \n",
       "borrow_amount   0.079725 -0.064678  \n",
       "bor_income     -0.055476  0.147452  \n",
       "free_cash_flow -0.183955  0.132783  \n",
       "fico            0.060434  0.144726  \n",
       "coverage       -0.406620 -0.017098  \n",
       "leverage        1.000000  0.203074  \n",
       "age             0.203074  1.000000  "
      ]
     },
     "execution_count": 32,
     "metadata": {},
     "output_type": "execute_result"
    }
   ],
   "source": [
    "bk_df.iloc[:,:7].corr(method='pearson')"
   ]
  },
  {
   "cell_type": "markdown",
   "metadata": {},
   "source": [
    "# Section 2: Declined Group, breakdown of decline reasons"
   ]
  },
  {
   "cell_type": "markdown",
   "metadata": {},
   "source": [
    "## Section 2-1 Declined Group"
   ]
  },
  {
   "cell_type": "code",
   "execution_count": 33,
   "metadata": {},
   "outputs": [
    {
     "data": {
      "text/html": [
       "<div>\n",
       "<style scoped>\n",
       "    .dataframe tbody tr th:only-of-type {\n",
       "        vertical-align: middle;\n",
       "    }\n",
       "\n",
       "    .dataframe tbody tr th {\n",
       "        vertical-align: top;\n",
       "    }\n",
       "\n",
       "    .dataframe thead th {\n",
       "        text-align: right;\n",
       "    }\n",
       "</style>\n",
       "<table border=\"1\" class=\"dataframe\">\n",
       "  <thead>\n",
       "    <tr style=\"text-align: right;\">\n",
       "      <th></th>\n",
       "      <th>borrow_amount</th>\n",
       "      <th>bor_income</th>\n",
       "      <th>free_cash_flow</th>\n",
       "      <th>fico</th>\n",
       "      <th>coverage</th>\n",
       "      <th>leverage</th>\n",
       "      <th>age</th>\n",
       "      <th>booked</th>\n",
       "    </tr>\n",
       "  </thead>\n",
       "  <tbody>\n",
       "    <tr>\n",
       "      <th>count</th>\n",
       "      <td>2207.000000</td>\n",
       "      <td>2.207000e+03</td>\n",
       "      <td>2207.000000</td>\n",
       "      <td>2207.000000</td>\n",
       "      <td>2207.000000</td>\n",
       "      <td>2207.000000</td>\n",
       "      <td>2148.000000</td>\n",
       "      <td>2207.0</td>\n",
       "    </tr>\n",
       "    <tr>\n",
       "      <th>mean</th>\n",
       "      <td>68287.702489</td>\n",
       "      <td>6.043894e+04</td>\n",
       "      <td>1164.085005</td>\n",
       "      <td>658.904248</td>\n",
       "      <td>1.786324</td>\n",
       "      <td>131.845356</td>\n",
       "      <td>32.586889</td>\n",
       "      <td>0.0</td>\n",
       "    </tr>\n",
       "    <tr>\n",
       "      <th>std</th>\n",
       "      <td>66638.243100</td>\n",
       "      <td>1.281658e+05</td>\n",
       "      <td>13499.918097</td>\n",
       "      <td>176.550502</td>\n",
       "      <td>6.417123</td>\n",
       "      <td>4620.628675</td>\n",
       "      <td>10.055934</td>\n",
       "      <td>0.0</td>\n",
       "    </tr>\n",
       "    <tr>\n",
       "      <th>min</th>\n",
       "      <td>-7525.567021</td>\n",
       "      <td>-2.044069e+04</td>\n",
       "      <td>-522633.461400</td>\n",
       "      <td>-7.368607</td>\n",
       "      <td>-0.852331</td>\n",
       "      <td>-0.173764</td>\n",
       "      <td>0.620765</td>\n",
       "      <td>0.0</td>\n",
       "    </tr>\n",
       "    <tr>\n",
       "      <th>25%</th>\n",
       "      <td>27762.458060</td>\n",
       "      <td>3.182290e+04</td>\n",
       "      <td>221.757078</td>\n",
       "      <td>648.912159</td>\n",
       "      <td>0.915282</td>\n",
       "      <td>1.182591</td>\n",
       "      <td>25.428607</td>\n",
       "      <td>0.0</td>\n",
       "    </tr>\n",
       "    <tr>\n",
       "      <th>50%</th>\n",
       "      <td>51712.117600</td>\n",
       "      <td>4.931362e+04</td>\n",
       "      <td>995.880224</td>\n",
       "      <td>699.980591</td>\n",
       "      <td>1.466741</td>\n",
       "      <td>2.292478</td>\n",
       "      <td>29.969216</td>\n",
       "      <td>0.0</td>\n",
       "    </tr>\n",
       "    <tr>\n",
       "      <th>75%</th>\n",
       "      <td>84685.304705</td>\n",
       "      <td>7.157784e+04</td>\n",
       "      <td>1871.206732</td>\n",
       "      <td>744.648107</td>\n",
       "      <td>2.056408</td>\n",
       "      <td>4.280285</td>\n",
       "      <td>36.387129</td>\n",
       "      <td>0.0</td>\n",
       "    </tr>\n",
       "    <tr>\n",
       "      <th>max</th>\n",
       "      <td>508960.285500</td>\n",
       "      <td>4.183004e+06</td>\n",
       "      <td>238902.647300</td>\n",
       "      <td>847.785176</td>\n",
       "      <td>243.010776</td>\n",
       "      <td>209842.997800</td>\n",
       "      <td>125.226750</td>\n",
       "      <td>0.0</td>\n",
       "    </tr>\n",
       "  </tbody>\n",
       "</table>\n",
       "</div>"
      ],
      "text/plain": [
       "       borrow_amount    bor_income  free_cash_flow         fico     coverage  \\\n",
       "count    2207.000000  2.207000e+03     2207.000000  2207.000000  2207.000000   \n",
       "mean    68287.702489  6.043894e+04     1164.085005   658.904248     1.786324   \n",
       "std     66638.243100  1.281658e+05    13499.918097   176.550502     6.417123   \n",
       "min     -7525.567021 -2.044069e+04  -522633.461400    -7.368607    -0.852331   \n",
       "25%     27762.458060  3.182290e+04      221.757078   648.912159     0.915282   \n",
       "50%     51712.117600  4.931362e+04      995.880224   699.980591     1.466741   \n",
       "75%     84685.304705  7.157784e+04     1871.206732   744.648107     2.056408   \n",
       "max    508960.285500  4.183004e+06   238902.647300   847.785176   243.010776   \n",
       "\n",
       "            leverage          age  booked  \n",
       "count    2207.000000  2148.000000  2207.0  \n",
       "mean      131.845356    32.586889     0.0  \n",
       "std      4620.628675    10.055934     0.0  \n",
       "min        -0.173764     0.620765     0.0  \n",
       "25%         1.182591    25.428607     0.0  \n",
       "50%         2.292478    29.969216     0.0  \n",
       "75%         4.280285    36.387129     0.0  \n",
       "max    209842.997800   125.226750     0.0  "
      ]
     },
     "execution_count": 33,
     "metadata": {},
     "output_type": "execute_result"
    }
   ],
   "source": [
    "# Descriptive statistics of all numeric factors using Pandas Describe\n",
    "dcl_df.describe()"
   ]
  },
  {
   "cell_type": "code",
   "execution_count": 34,
   "metadata": {},
   "outputs": [
    {
     "data": {
      "text/plain": [
       "True     1153\n",
       "False    1054\n",
       "Name: is_undergrad, dtype: int64"
      ]
     },
     "execution_count": 34,
     "metadata": {},
     "output_type": "execute_result"
    }
   ],
   "source": [
    "# `is_undergrad`:\n",
    "dcl_undergrad_pct = dcl_df['is_undergrad'].value_counts()\n",
    "dcl_undergrad_pct"
   ]
  },
  {
   "cell_type": "code",
   "execution_count": 35,
   "metadata": {},
   "outputs": [
    {
     "data": {
      "text/plain": [
       "Text(0,1,'is_undergrad in declined group ')"
      ]
     },
     "execution_count": 35,
     "metadata": {},
     "output_type": "execute_result"
    },
    {
     "data": {
      "image/png": "[encoded data removed]",
      "text/plain": [
       "<Figure size 432x432 with 1 Axes>"
      ]
     },
     "metadata": {},
     "output_type": "display_data"
    }
   ],
   "source": [
    "labels = ['is_undergrad', 'not_undergrad']\n",
    "explode = (0.1, 0)\n",
    "\n",
    "fig4, ax4 = plt.subplots()\n",
    "fig4.set_size_inches(6, 6)\n",
    "ax4.pie([dcl_undergrad_pct[1], dcl_undergrad_pct[0]], \n",
    "        explode=explode, labels=labels, autopct='%1.1f%%',\n",
    "        shadow=True, startangle=90)\n",
    "ax4.axis('equal')\n",
    "plt.title('is_undergrad in declined group ', loc='left')"
   ]
  },
  {
   "cell_type": "code",
   "execution_count": 36,
   "metadata": {},
   "outputs": [],
   "source": [
    "# Group \"Approved data\" by `is_undergrad` and `booked`\n",
    "grouped_dcl_df = dcl_df.groupby(['is_undergrad'])"
   ]
  },
  {
   "cell_type": "code",
   "execution_count": 37,
   "metadata": {},
   "outputs": [
    {
     "data": {
      "text/html": [
       "<div>\n",
       "<style scoped>\n",
       "    .dataframe tbody tr th:only-of-type {\n",
       "        vertical-align: middle;\n",
       "    }\n",
       "\n",
       "    .dataframe tbody tr th {\n",
       "        vertical-align: top;\n",
       "    }\n",
       "\n",
       "    .dataframe thead th {\n",
       "        text-align: right;\n",
       "    }\n",
       "</style>\n",
       "<table border=\"1\" class=\"dataframe\">\n",
       "  <thead>\n",
       "    <tr style=\"text-align: right;\">\n",
       "      <th></th>\n",
       "      <th>count</th>\n",
       "      <th>mean</th>\n",
       "      <th>std</th>\n",
       "      <th>min</th>\n",
       "      <th>25%</th>\n",
       "      <th>50%</th>\n",
       "      <th>75%</th>\n",
       "      <th>max</th>\n",
       "    </tr>\n",
       "    <tr>\n",
       "      <th>is_undergrad</th>\n",
       "      <th></th>\n",
       "      <th></th>\n",
       "      <th></th>\n",
       "      <th></th>\n",
       "      <th></th>\n",
       "      <th></th>\n",
       "      <th></th>\n",
       "      <th></th>\n",
       "    </tr>\n",
       "  </thead>\n",
       "  <tbody>\n",
       "    <tr>\n",
       "      <th>False</th>\n",
       "      <td>1054.0</td>\n",
       "      <td>67167.968163</td>\n",
       "      <td>51332.445150</td>\n",
       "      <td>-19866.88757</td>\n",
       "      <td>37153.517575</td>\n",
       "      <td>56969.85763</td>\n",
       "      <td>83663.721157</td>\n",
       "      <td>5.848590e+05</td>\n",
       "    </tr>\n",
       "    <tr>\n",
       "      <th>True</th>\n",
       "      <td>1153.0</td>\n",
       "      <td>54287.680807</td>\n",
       "      <td>170198.894848</td>\n",
       "      <td>-20440.68713</td>\n",
       "      <td>27739.580700</td>\n",
       "      <td>43254.01332</td>\n",
       "      <td>61292.682130</td>\n",
       "      <td>4.183004e+06</td>\n",
       "    </tr>\n",
       "  </tbody>\n",
       "</table>\n",
       "</div>"
      ],
      "text/plain": [
       "               count          mean            std          min           25%  \\\n",
       "is_undergrad                                                                   \n",
       "False         1054.0  67167.968163   51332.445150 -19866.88757  37153.517575   \n",
       "True          1153.0  54287.680807  170198.894848 -20440.68713  27739.580700   \n",
       "\n",
       "                      50%           75%           max  \n",
       "is_undergrad                                           \n",
       "False         56969.85763  83663.721157  5.848590e+05  \n",
       "True          43254.01332  61292.682130  4.183004e+06  "
      ]
     },
     "execution_count": 37,
     "metadata": {},
     "output_type": "execute_result"
    }
   ],
   "source": [
    "# Descriptive statistics of one numeric factors in grouped dataset, use `bor_income` as an example here\n",
    "grouped_dcl_df['bor_income'].describe()"
   ]
  },
  {
   "cell_type": "code",
   "execution_count": 38,
   "metadata": {},
   "outputs": [
    {
     "data": {
      "text/html": [
       "<div>\n",
       "<style scoped>\n",
       "    .dataframe tbody tr th:only-of-type {\n",
       "        vertical-align: middle;\n",
       "    }\n",
       "\n",
       "    .dataframe tbody tr th {\n",
       "        vertical-align: top;\n",
       "    }\n",
       "\n",
       "    .dataframe thead th {\n",
       "        text-align: right;\n",
       "    }\n",
       "</style>\n",
       "<table border=\"1\" class=\"dataframe\">\n",
       "  <thead>\n",
       "    <tr style=\"text-align: right;\">\n",
       "      <th></th>\n",
       "      <th>is_undergrad</th>\n",
       "      <th>mean</th>\n",
       "      <th>median</th>\n",
       "      <th>std</th>\n",
       "    </tr>\n",
       "  </thead>\n",
       "  <tbody>\n",
       "    <tr>\n",
       "      <th>0</th>\n",
       "      <td>False</td>\n",
       "      <td>67167.968163</td>\n",
       "      <td>56969.85763</td>\n",
       "      <td>51332.445150</td>\n",
       "    </tr>\n",
       "    <tr>\n",
       "      <th>1</th>\n",
       "      <td>True</td>\n",
       "      <td>54287.680807</td>\n",
       "      <td>43254.01332</td>\n",
       "      <td>170198.894848</td>\n",
       "    </tr>\n",
       "  </tbody>\n",
       "</table>\n",
       "</div>"
      ],
      "text/plain": [
       "   is_undergrad          mean       median            std\n",
       "0         False  67167.968163  56969.85763   51332.445150\n",
       "1          True  54287.680807  43254.01332  170198.894848"
      ]
     },
     "execution_count": 38,
     "metadata": {},
     "output_type": "execute_result"
    }
   ],
   "source": [
    "# Extract \"Central\" information from descriptive statistics\n",
    "grouped_dcl_df['bor_income'].aggregate([np.mean, np.median, np.std]).reset_index()"
   ]
  },
  {
   "cell_type": "code",
   "execution_count": 39,
   "metadata": {},
   "outputs": [
    {
     "data": {
      "text/plain": [
       "<matplotlib.axes._subplots.AxesSubplot at 0x1be16f33da0>"
      ]
     },
     "execution_count": 39,
     "metadata": {},
     "output_type": "execute_result"
    },
    {
     "data": {
      "image/png": "[encoded data removed]",
      "text/plain": [
       "<Figure size 432x432 with 1 Axes>"
      ]
     },
     "metadata": {},
     "output_type": "display_data"
    }
   ],
   "source": [
    "# Bar chart\n",
    "grouped_dcl_df['bor_income'].aggregate([np.mean, np.median]).transpose().plot(kind='bar', figsize=(6,6), legend=True, \n",
    "                                                                       title=\"Bor_income central tendency comparison in declined group\")\n"
   ]
  },
  {
   "cell_type": "code",
   "execution_count": 40,
   "metadata": {},
   "outputs": [
    {
     "data": {
      "text/html": [
       "<div>\n",
       "<style scoped>\n",
       "    .dataframe tbody tr th:only-of-type {\n",
       "        vertical-align: middle;\n",
       "    }\n",
       "\n",
       "    .dataframe tbody tr th {\n",
       "        vertical-align: top;\n",
       "    }\n",
       "\n",
       "    .dataframe thead th {\n",
       "        text-align: right;\n",
       "    }\n",
       "</style>\n",
       "<table border=\"1\" class=\"dataframe\">\n",
       "  <thead>\n",
       "    <tr style=\"text-align: right;\">\n",
       "      <th></th>\n",
       "      <th>is_undergrad</th>\n",
       "      <th>std</th>\n",
       "      <th>var</th>\n",
       "    </tr>\n",
       "  </thead>\n",
       "  <tbody>\n",
       "    <tr>\n",
       "      <th>0</th>\n",
       "      <td>False</td>\n",
       "      <td>51332.445150</td>\n",
       "      <td>2.635020e+09</td>\n",
       "    </tr>\n",
       "    <tr>\n",
       "      <th>1</th>\n",
       "      <td>True</td>\n",
       "      <td>170198.894848</td>\n",
       "      <td>2.896766e+10</td>\n",
       "    </tr>\n",
       "  </tbody>\n",
       "</table>\n",
       "</div>"
      ],
      "text/plain": [
       "   is_undergrad            std           var\n",
       "0         False   51332.445150  2.635020e+09\n",
       "1          True  170198.894848  2.896766e+10"
      ]
     },
     "execution_count": 40,
     "metadata": {},
     "output_type": "execute_result"
    }
   ],
   "source": [
    "# Measures of variability\n",
    "grouped_dcl_df['bor_income'].aggregate([np.std, np.var]).reset_index()"
   ]
  },
  {
   "cell_type": "code",
   "execution_count": 41,
   "metadata": {},
   "outputs": [
    {
     "data": {
      "text/plain": [
       "<matplotlib.axes._subplots.AxesSubplot at 0x1be16f72a20>"
      ]
     },
     "execution_count": 41,
     "metadata": {},
     "output_type": "execute_result"
    },
    {
     "data": {
      "image/png": "[encoded data removed]",
      "text/plain": [
       "<Figure size 432x432 with 1 Axes>"
      ]
     },
     "metadata": {},
     "output_type": "display_data"
    }
   ],
   "source": [
    "grouped_dcl_df['bor_income'].aggregate([np.std]).transpose().plot(kind='bar', figsize=(6,6), legend=True, \n",
    "                                                                       title=\"Bor_income variability comparison in declined group\") "
   ]
  },
  {
   "cell_type": "markdown",
   "metadata": {},
   "source": [
    "## Section 2-2 Breakdown of the decline reasons"
   ]
  },
  {
   "cell_type": "code",
   "execution_count": 42,
   "metadata": {},
   "outputs": [],
   "source": [
    "# First build an empty list to store all appeared decline reasons\n",
    "reason_list = []"
   ]
  },
  {
   "cell_type": "code",
   "execution_count": 43,
   "metadata": {},
   "outputs": [
    {
     "data": {
      "text/plain": [
       "str"
      ]
     },
     "execution_count": 43,
     "metadata": {},
     "output_type": "execute_result"
    }
   ],
   "source": [
    "type(dcl_df['decline_reasons'].iloc[1])"
   ]
  },
  {
   "cell_type": "code",
   "execution_count": 44,
   "metadata": {},
   "outputs": [],
   "source": [
    "# Append a new column to dataframe which change dtype of \"decline_reasons\" from str to list\n",
    "dcl_df = dcl_df.copy()\n",
    "dcl_df['decline_reasons_2'] = dcl_df['decline_reasons'].apply(ast.literal_eval)"
   ]
  },
  {
   "cell_type": "code",
   "execution_count": 45,
   "metadata": {},
   "outputs": [
    {
     "data": {
      "text/plain": [
       "list"
      ]
     },
     "execution_count": 45,
     "metadata": {},
     "output_type": "execute_result"
    }
   ],
   "source": [
    "type(dcl_df['decline_reasons_2'].iloc[1])"
   ]
  },
  {
   "cell_type": "code",
   "execution_count": 46,
   "metadata": {},
   "outputs": [],
   "source": [
    "# Union of lists and make it to a set (no duplicates)\n",
    "for i in range(dcl_df.shape[0]):\n",
    "    reason_list = list(set().union(reason_list, dcl_df['decline_reasons_2'].iloc[i]))"
   ]
  },
  {
   "cell_type": "markdown",
   "metadata": {},
   "source": [
    "### What kind of declined reasons do we have?"
   ]
  },
  {
   "cell_type": "code",
   "execution_count": 47,
   "metadata": {},
   "outputs": [
    {
     "data": {
      "text/plain": [
       "['CHARGEOFFS_EXCEED_MAX',\n",
       " 'CREDIT_REPORT_ERROR',\n",
       " 'CREDIT_REPORT_ERROR_COSIGNER',\n",
       " 'DELINQUENCIES_EXCEED_MAX',\n",
       " 'FROZEN_BUREAU',\n",
       " 'MAX_LEVERAGE',\n",
       " 'MAX_LEVERAGE_COSIGNER',\n",
       " 'MIN_CB_RATIO',\n",
       " 'MIN_CB_RATIO_COSIGNER',\n",
       " 'MIN_COVERAGE',\n",
       " 'MIN_COVERAGE_COSIGNER',\n",
       " 'MIN_CREDIT_HISTORY',\n",
       " 'MIN_FCF',\n",
       " 'MIN_FCF_COSIGNER',\n",
       " 'MIN_FICO',\n",
       " 'MIN_FICO_COSIGNER',\n",
       " 'PRIOR_STUDENT_LOAN_DEFAULT',\n",
       " 'RECENT_BANKRUPTCY']"
      ]
     },
     "execution_count": 47,
     "metadata": {},
     "output_type": "execute_result"
    }
   ],
   "source": [
    "reason_list.sort()\n",
    "reason_list\n",
    "# Totally 18 different reasons"
   ]
  },
  {
   "cell_type": "markdown",
   "metadata": {},
   "source": [
    "### Convert a column of list to dummies"
   ]
  },
  {
   "cell_type": "code",
   "execution_count": 48,
   "metadata": {},
   "outputs": [],
   "source": [
    "# Convert a column of list to dummies\n",
    "dat2 = pd.get_dummies(dcl_df['decline_reasons_2'].apply(pd.Series).stack()).sum(level=0)\n",
    "# Append new columns to previous dataframe\n",
    "dcl_df = dcl_df.join(dat2)"
   ]
  },
  {
   "cell_type": "code",
   "execution_count": 49,
   "metadata": {},
   "outputs": [
    {
     "data": {
      "text/html": [
       "<div>\n",
       "<style scoped>\n",
       "    .dataframe tbody tr th:only-of-type {\n",
       "        vertical-align: middle;\n",
       "    }\n",
       "\n",
       "    .dataframe tbody tr th {\n",
       "        vertical-align: top;\n",
       "    }\n",
       "\n",
       "    .dataframe thead th {\n",
       "        text-align: right;\n",
       "    }\n",
       "</style>\n",
       "<table border=\"1\" class=\"dataframe\">\n",
       "  <thead>\n",
       "    <tr style=\"text-align: right;\">\n",
       "      <th></th>\n",
       "      <th>borrow_amount</th>\n",
       "      <th>bor_income</th>\n",
       "      <th>free_cash_flow</th>\n",
       "      <th>fico</th>\n",
       "      <th>coverage</th>\n",
       "      <th>leverage</th>\n",
       "      <th>age</th>\n",
       "      <th>is_undergrad</th>\n",
       "      <th>decline_reasons</th>\n",
       "      <th>status</th>\n",
       "      <th>...</th>\n",
       "      <th>MIN_CB_RATIO_COSIGNER</th>\n",
       "      <th>MIN_COVERAGE</th>\n",
       "      <th>MIN_COVERAGE_COSIGNER</th>\n",
       "      <th>MIN_CREDIT_HISTORY</th>\n",
       "      <th>MIN_FCF</th>\n",
       "      <th>MIN_FCF_COSIGNER</th>\n",
       "      <th>MIN_FICO</th>\n",
       "      <th>MIN_FICO_COSIGNER</th>\n",
       "      <th>PRIOR_STUDENT_LOAN_DEFAULT</th>\n",
       "      <th>RECENT_BANKRUPTCY</th>\n",
       "    </tr>\n",
       "  </thead>\n",
       "  <tbody>\n",
       "    <tr>\n",
       "      <th>0</th>\n",
       "      <td>93557.449460</td>\n",
       "      <td>74699.05668</td>\n",
       "      <td>1598.301127</td>\n",
       "      <td>745.485520</td>\n",
       "      <td>1.647804</td>\n",
       "      <td>1.821286</td>\n",
       "      <td>35.205970</td>\n",
       "      <td>False</td>\n",
       "      <td>['MIN_FCF']</td>\n",
       "      <td>DECLINED</td>\n",
       "      <td>...</td>\n",
       "      <td>0</td>\n",
       "      <td>0</td>\n",
       "      <td>0</td>\n",
       "      <td>0</td>\n",
       "      <td>1</td>\n",
       "      <td>0</td>\n",
       "      <td>0</td>\n",
       "      <td>0</td>\n",
       "      <td>0</td>\n",
       "      <td>0</td>\n",
       "    </tr>\n",
       "    <tr>\n",
       "      <th>1</th>\n",
       "      <td>58876.977090</td>\n",
       "      <td>39537.62050</td>\n",
       "      <td>884.603791</td>\n",
       "      <td>671.776151</td>\n",
       "      <td>1.235251</td>\n",
       "      <td>2.368029</td>\n",
       "      <td>26.156217</td>\n",
       "      <td>False</td>\n",
       "      <td>['CHARGEOFFS_EXCEED_MAX', 'MIN_FCF']</td>\n",
       "      <td>DECLINED</td>\n",
       "      <td>...</td>\n",
       "      <td>0</td>\n",
       "      <td>0</td>\n",
       "      <td>0</td>\n",
       "      <td>0</td>\n",
       "      <td>1</td>\n",
       "      <td>0</td>\n",
       "      <td>0</td>\n",
       "      <td>0</td>\n",
       "      <td>0</td>\n",
       "      <td>0</td>\n",
       "    </tr>\n",
       "    <tr>\n",
       "      <th>3</th>\n",
       "      <td>9298.987299</td>\n",
       "      <td>51530.86689</td>\n",
       "      <td>1631.329003</td>\n",
       "      <td>779.235693</td>\n",
       "      <td>1.528085</td>\n",
       "      <td>1.223345</td>\n",
       "      <td>25.080702</td>\n",
       "      <td>False</td>\n",
       "      <td>['MIN_FCF']</td>\n",
       "      <td>DECLINED</td>\n",
       "      <td>...</td>\n",
       "      <td>0</td>\n",
       "      <td>0</td>\n",
       "      <td>0</td>\n",
       "      <td>0</td>\n",
       "      <td>1</td>\n",
       "      <td>0</td>\n",
       "      <td>0</td>\n",
       "      <td>0</td>\n",
       "      <td>0</td>\n",
       "      <td>0</td>\n",
       "    </tr>\n",
       "    <tr>\n",
       "      <th>4</th>\n",
       "      <td>36715.197980</td>\n",
       "      <td>91245.13938</td>\n",
       "      <td>-836.705060</td>\n",
       "      <td>0.923708</td>\n",
       "      <td>0.670982</td>\n",
       "      <td>0.002413</td>\n",
       "      <td>NaN</td>\n",
       "      <td>True</td>\n",
       "      <td>['FROZEN_BUREAU']</td>\n",
       "      <td>DECLINED</td>\n",
       "      <td>...</td>\n",
       "      <td>0</td>\n",
       "      <td>0</td>\n",
       "      <td>0</td>\n",
       "      <td>0</td>\n",
       "      <td>0</td>\n",
       "      <td>0</td>\n",
       "      <td>0</td>\n",
       "      <td>0</td>\n",
       "      <td>0</td>\n",
       "      <td>0</td>\n",
       "    </tr>\n",
       "    <tr>\n",
       "      <th>5</th>\n",
       "      <td>18064.314940</td>\n",
       "      <td>36461.88947</td>\n",
       "      <td>-116.585190</td>\n",
       "      <td>504.286104</td>\n",
       "      <td>0.738121</td>\n",
       "      <td>2.558352</td>\n",
       "      <td>26.608779</td>\n",
       "      <td>True</td>\n",
       "      <td>['CHARGEOFFS_EXCEED_MAX', 'DELINQUENCIES_EXCEE...</td>\n",
       "      <td>DECLINED</td>\n",
       "      <td>...</td>\n",
       "      <td>0</td>\n",
       "      <td>1</td>\n",
       "      <td>0</td>\n",
       "      <td>0</td>\n",
       "      <td>1</td>\n",
       "      <td>0</td>\n",
       "      <td>1</td>\n",
       "      <td>0</td>\n",
       "      <td>0</td>\n",
       "      <td>0</td>\n",
       "    </tr>\n",
       "  </tbody>\n",
       "</table>\n",
       "<p>5 rows × 30 columns</p>\n",
       "</div>"
      ],
      "text/plain": [
       "   borrow_amount   bor_income  free_cash_flow        fico  coverage  leverage  \\\n",
       "0   93557.449460  74699.05668     1598.301127  745.485520  1.647804  1.821286   \n",
       "1   58876.977090  39537.62050      884.603791  671.776151  1.235251  2.368029   \n",
       "3    9298.987299  51530.86689     1631.329003  779.235693  1.528085  1.223345   \n",
       "4   36715.197980  91245.13938     -836.705060    0.923708  0.670982  0.002413   \n",
       "5   18064.314940  36461.88947     -116.585190  504.286104  0.738121  2.558352   \n",
       "\n",
       "         age is_undergrad                                    decline_reasons  \\\n",
       "0  35.205970        False                                        ['MIN_FCF']   \n",
       "1  26.156217        False               ['CHARGEOFFS_EXCEED_MAX', 'MIN_FCF']   \n",
       "3  25.080702        False                                        ['MIN_FCF']   \n",
       "4        NaN         True                                  ['FROZEN_BUREAU']   \n",
       "5  26.608779         True  ['CHARGEOFFS_EXCEED_MAX', 'DELINQUENCIES_EXCEE...   \n",
       "\n",
       "     status        ...          MIN_CB_RATIO_COSIGNER MIN_COVERAGE  \\\n",
       "0  DECLINED        ...                              0            0   \n",
       "1  DECLINED        ...                              0            0   \n",
       "3  DECLINED        ...                              0            0   \n",
       "4  DECLINED        ...                              0            0   \n",
       "5  DECLINED        ...                              0            1   \n",
       "\n",
       "   MIN_COVERAGE_COSIGNER  MIN_CREDIT_HISTORY  MIN_FCF  MIN_FCF_COSIGNER  \\\n",
       "0                      0                   0        1                 0   \n",
       "1                      0                   0        1                 0   \n",
       "3                      0                   0        1                 0   \n",
       "4                      0                   0        0                 0   \n",
       "5                      0                   0        1                 0   \n",
       "\n",
       "   MIN_FICO  MIN_FICO_COSIGNER  PRIOR_STUDENT_LOAN_DEFAULT  RECENT_BANKRUPTCY  \n",
       "0         0                  0                           0                  0  \n",
       "1         0                  0                           0                  0  \n",
       "3         0                  0                           0                  0  \n",
       "4         0                  0                           0                  0  \n",
       "5         1                  0                           0                  0  \n",
       "\n",
       "[5 rows x 30 columns]"
      ]
     },
     "execution_count": 49,
     "metadata": {},
     "output_type": "execute_result"
    }
   ],
   "source": [
    "dcl_df.head()"
   ]
  },
  {
   "cell_type": "code",
   "execution_count": 50,
   "metadata": {},
   "outputs": [],
   "source": [
    "# Add the number of decline reasons that a loan has\n",
    "dcl_df['num_dcl_reasons'] =  dcl_df[reason_list].sum(axis=1)"
   ]
  },
  {
   "cell_type": "markdown",
   "metadata": {},
   "source": [
    "### Distribution of the number of declined reasons"
   ]
  },
  {
   "cell_type": "code",
   "execution_count": 51,
   "metadata": {},
   "outputs": [
    {
     "data": {
      "text/plain": [
       "1    925\n",
       "2    399\n",
       "3    388\n",
       "4    331\n",
       "5    105\n",
       "6     48\n",
       "7      8\n",
       "8      2\n",
       "9      1\n",
       "Name: num_dcl_reasons, dtype: int64"
      ]
     },
     "execution_count": 51,
     "metadata": {},
     "output_type": "execute_result"
    }
   ],
   "source": [
    "num_rank = dcl_df['num_dcl_reasons'].value_counts().sort_values(ascending=False)\n",
    "num_rank"
   ]
  },
  {
   "cell_type": "code",
   "execution_count": 52,
   "metadata": {},
   "outputs": [
    {
     "data": {
      "image/png": "[encoded data removed]",
      "text/plain": [
       "<Figure size 576x576 with 1 Axes>"
      ]
     },
     "metadata": {},
     "output_type": "display_data"
    }
   ],
   "source": [
    "ax = num_rank.plot(kind='barh', figsize=(8,8), color=\"coral\", fontsize=13)\n",
    "ax.set_title(\"How many declined reasons a loan will have?\", fontsize=15)\n",
    "ax.set_xlabel(\"Number of Loans\", fontsize=15)\n",
    "ax.set_ylabel(\"Number of Declined Reasons\", fontsize=15)\n",
    "\n",
    "# create a list to collect the plt.patches data\n",
    "totals = []\n",
    "\n",
    "# find the values and append to list\n",
    "for i in ax.patches:\n",
    "    totals.append(i.get_width())\n",
    "\n",
    "# set individual bar lables using above list\n",
    "total = sum(totals)\n",
    "\n",
    "# set individual bar lables using above list\n",
    "for i in ax.patches:\n",
    "    ax.text(i.get_width()+.3, i.get_y()+.38, \\\n",
    "            str(round((i.get_width()/total)*100, 2))+'%', fontsize=12)\n",
    "\n",
    "# invert for largest on top \n",
    "ax.invert_yaxis()"
   ]
  },
  {
   "cell_type": "markdown",
   "metadata": {},
   "source": [
    "### Distribution of the type of declined reasons"
   ]
  },
  {
   "cell_type": "code",
   "execution_count": 53,
   "metadata": {},
   "outputs": [
    {
     "data": {
      "text/plain": [
       "MIN_FCF                         1480\n",
       "MIN_CB_RATIO                     905\n",
       "MIN_COVERAGE                     647\n",
       "MIN_FICO                         526\n",
       "MAX_LEVERAGE                     498\n",
       "CHARGEOFFS_EXCEED_MAX            471\n",
       "DELINQUENCIES_EXCEED_MAX         160\n",
       "MIN_CREDIT_HISTORY                97\n",
       "PRIOR_STUDENT_LOAN_DEFAULT        92\n",
       "RECENT_BANKRUPTCY                 92\n",
       "FROZEN_BUREAU                     80\n",
       "CREDIT_REPORT_ERROR               30\n",
       "MIN_FCF_COSIGNER                   7\n",
       "MIN_COVERAGE_COSIGNER              6\n",
       "MAX_LEVERAGE_COSIGNER              6\n",
       "MIN_CB_RATIO_COSIGNER              6\n",
       "MIN_FICO_COSIGNER                  1\n",
       "CREDIT_REPORT_ERROR_COSIGNER       1\n",
       "dtype: int64"
      ]
     },
     "execution_count": 53,
     "metadata": {},
     "output_type": "execute_result"
    }
   ],
   "source": [
    "type_rank = dcl_df[reason_list].sum(axis=0).sort_values(ascending=False)\n",
    "type_rank"
   ]
  },
  {
   "cell_type": "code",
   "execution_count": 54,
   "metadata": {},
   "outputs": [
    {
     "data": {
      "image/png": "[encoded data removed]",
      "text/plain": [
       "<Figure size 576x576 with 1 Axes>"
      ]
     },
     "metadata": {},
     "output_type": "display_data"
    }
   ],
   "source": [
    "ax = type_rank.plot(kind='barh', figsize=(8,8), color=\"slateblue\", fontsize=13)\n",
    "ax.set_title(\"What kind of declined reasons borrowers have?\", fontsize=15)\n",
    "ax.set_xlabel(\"Number of Loans\", fontsize=15)\n",
    "ax.set_ylabel(\"Name of Declined Reasons\", fontsize=15)\n",
    "\n",
    "# create a list to collect the plt.patches data\n",
    "totals = []\n",
    "\n",
    "# find the values and append to list\n",
    "for i in ax.patches:\n",
    "    totals.append(i.get_width())\n",
    "\n",
    "# set individual bar lables using above list\n",
    "total = sum(totals)\n",
    "\n",
    "# set individual bar lables using above list\n",
    "for i in ax.patches:\n",
    "    ax.text(i.get_width()+.3, i.get_y()+.38, \\\n",
    "            str(round((i.get_width()/total)*100, 2))+'%', fontsize=12)\n",
    "\n",
    "# invert for largest on top \n",
    "ax.invert_yaxis()"
   ]
  },
  {
   "cell_type": "markdown",
   "metadata": {},
   "source": [
    "### \"Reasons Association\", which two declined reasons will appear together?"
   ]
  },
  {
   "cell_type": "code",
   "execution_count": 55,
   "metadata": {},
   "outputs": [],
   "source": [
    "from itertools import combinations"
   ]
  },
  {
   "cell_type": "code",
   "execution_count": 56,
   "metadata": {},
   "outputs": [],
   "source": [
    "# Only select dummies column about declined reasons to build a new df\n",
    "reason_df = dcl_df[reason_list]"
   ]
  },
  {
   "cell_type": "code",
   "execution_count": 57,
   "metadata": {},
   "outputs": [],
   "source": [
    "reason_df.columns = [str(col) + '_X' for col in reason_df.columns]"
   ]
  },
  {
   "cell_type": "code",
   "execution_count": 58,
   "metadata": {},
   "outputs": [],
   "source": [
    "# Create a list to store all poosible combination(size=2) of declined reasons\n",
    "# len(reason_list): 18; len(cc): 153 \n",
    "cc = list(combinations(reason_df.columns,2))"
   ]
  },
  {
   "cell_type": "code",
   "execution_count": 59,
   "metadata": {},
   "outputs": [],
   "source": [
    "reason_comb_df = pd.concat([reason_df[c[0]]*reason_df[c[1]] for c in cc], axis=1, keys=cc)"
   ]
  },
  {
   "cell_type": "code",
   "execution_count": 60,
   "metadata": {},
   "outputs": [],
   "source": [
    "reason_comb_df.columns = reason_comb_df.columns.map(','.join)"
   ]
  },
  {
   "cell_type": "markdown",
   "metadata": {},
   "source": [
    "### Top 10 combinations"
   ]
  },
  {
   "cell_type": "code",
   "execution_count": 61,
   "metadata": {},
   "outputs": [
    {
     "data": {
      "text/plain": [
       "MIN_CB_RATIO_X,MIN_FCF_X                  769\n",
       "MIN_COVERAGE_X,MIN_FCF_X                  646\n",
       "MIN_CB_RATIO_X,MIN_COVERAGE_X             548\n",
       "MAX_LEVERAGE_X,MIN_FCF_X                  390\n",
       "MIN_CB_RATIO_X,MIN_FICO_X                 313\n",
       "MAX_LEVERAGE_X,MIN_COVERAGE_X             291\n",
       "CHARGEOFFS_EXCEED_MAX_X,MIN_FICO_X        286\n",
       "MAX_LEVERAGE_X,MIN_CB_RATIO_X             274\n",
       "MIN_FCF_X,MIN_FICO_X                      261\n",
       "CHARGEOFFS_EXCEED_MAX_X,MIN_CB_RATIO_X    206\n",
       "dtype: int64"
      ]
     },
     "execution_count": 61,
     "metadata": {},
     "output_type": "execute_result"
    }
   ],
   "source": [
    "comb_rank = reason_comb_df.sum(axis=0).sort_values(ascending=False)\n",
    "comb_rank.head(10)"
   ]
  },
  {
   "cell_type": "code",
   "execution_count": 62,
   "metadata": {},
   "outputs": [],
   "source": [
    "comb_rank_df = pd.DataFrame({'comb':comb_rank.index, 'counts':comb_rank.values})"
   ]
  },
  {
   "cell_type": "markdown",
   "metadata": {},
   "source": [
    "### Given a declined reason, return the most frequently appeared pair that contain it"
   ]
  },
  {
   "cell_type": "code",
   "execution_count": 63,
   "metadata": {},
   "outputs": [],
   "source": [
    "def find_pair(df, reason):\n",
    "    return df[(df['comb'].str.contains(reason+'_X,')) | (df['comb'].str.contains(','+reason+'_X'))]['comb'].iloc[0]"
   ]
  },
  {
   "cell_type": "code",
   "execution_count": 64,
   "metadata": {},
   "outputs": [
    {
     "data": {
      "text/plain": [
       "'MAX_LEVERAGE_X,MIN_FCF_X'"
      ]
     },
     "execution_count": 64,
     "metadata": {},
     "output_type": "execute_result"
    }
   ],
   "source": [
    "# Example\n",
    "inputs = 'MAX_LEVERAGE'\n",
    "find_pair(comb_rank_df, inputs)"
   ]
  },
  {
   "cell_type": "code",
   "execution_count": null,
   "metadata": {},
   "outputs": [],
   "source": []
  }
 ],
 "metadata": {
  "kernelspec": {
   "display_name": "Python 3",
   "language": "python",
   "name": "python3"
  },
  "language_info": {
   "codemirror_mode": {
    "name": "ipython",
    "version": 3
   },
   "file_extension": ".py",
   "mimetype": "text/x-python",
   "name": "python",
   "nbconvert_exporter": "python",
   "pygments_lexer": "ipython3",
   "version": "3.6.5"
  }
 },
 "nbformat": 4,
 "nbformat_minor": 2
}
